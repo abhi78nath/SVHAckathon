{
 "cells": [
  {
   "cell_type": "code",
   "execution_count": 1,
   "id": "96533b3b",
   "metadata": {},
   "outputs": [],
   "source": [
    "import pandas as pd\n",
    "df = pd.read_excel('Hackathon.xlsx')"
   ]
  },
  {
   "cell_type": "code",
   "execution_count": 2,
   "id": "502ea7eb",
   "metadata": {},
   "outputs": [
    {
     "data": {
      "text/html": [
       "<div>\n",
       "<style scoped>\n",
       "    .dataframe tbody tr th:only-of-type {\n",
       "        vertical-align: middle;\n",
       "    }\n",
       "\n",
       "    .dataframe tbody tr th {\n",
       "        vertical-align: top;\n",
       "    }\n",
       "\n",
       "    .dataframe thead th {\n",
       "        text-align: right;\n",
       "    }\n",
       "</style>\n",
       "<table border=\"1\" class=\"dataframe\">\n",
       "  <thead>\n",
       "    <tr style=\"text-align: right;\">\n",
       "      <th></th>\n",
       "      <th>Candidate Id</th>\n",
       "      <th>Codeforces Rating</th>\n",
       "      <th>Codeforces Contributions</th>\n",
       "      <th>Dribble works</th>\n",
       "      <th>Dribble Projects</th>\n",
       "      <th>Dribble collections</th>\n",
       "      <th>Kaggle compettions</th>\n",
       "      <th>Kaggle Datasets</th>\n",
       "      <th>Kaggle  code</th>\n",
       "      <th>Kaggle Discusions</th>\n",
       "      <th>Github Repos</th>\n",
       "      <th>Github Commits</th>\n",
       "      <th>Total Rating</th>\n",
       "    </tr>\n",
       "  </thead>\n",
       "  <tbody>\n",
       "    <tr>\n",
       "      <th>0</th>\n",
       "      <td>1</td>\n",
       "      <td>10</td>\n",
       "      <td>5</td>\n",
       "      <td>6</td>\n",
       "      <td>10</td>\n",
       "      <td>4</td>\n",
       "      <td>5</td>\n",
       "      <td>3</td>\n",
       "      <td>3</td>\n",
       "      <td>3</td>\n",
       "      <td>5</td>\n",
       "      <td>5</td>\n",
       "      <td>3.277778</td>\n",
       "    </tr>\n",
       "    <tr>\n",
       "      <th>1</th>\n",
       "      <td>2</td>\n",
       "      <td>7</td>\n",
       "      <td>2</td>\n",
       "      <td>2</td>\n",
       "      <td>2</td>\n",
       "      <td>4</td>\n",
       "      <td>3</td>\n",
       "      <td>4</td>\n",
       "      <td>2</td>\n",
       "      <td>2</td>\n",
       "      <td>1</td>\n",
       "      <td>4</td>\n",
       "      <td>1.833333</td>\n",
       "    </tr>\n",
       "    <tr>\n",
       "      <th>2</th>\n",
       "      <td>3</td>\n",
       "      <td>4</td>\n",
       "      <td>5</td>\n",
       "      <td>2</td>\n",
       "      <td>8</td>\n",
       "      <td>2</td>\n",
       "      <td>3</td>\n",
       "      <td>5</td>\n",
       "      <td>1</td>\n",
       "      <td>4</td>\n",
       "      <td>9</td>\n",
       "      <td>5</td>\n",
       "      <td>2.666667</td>\n",
       "    </tr>\n",
       "    <tr>\n",
       "      <th>3</th>\n",
       "      <td>4</td>\n",
       "      <td>10</td>\n",
       "      <td>5</td>\n",
       "      <td>5</td>\n",
       "      <td>2</td>\n",
       "      <td>3</td>\n",
       "      <td>10</td>\n",
       "      <td>1</td>\n",
       "      <td>3</td>\n",
       "      <td>4</td>\n",
       "      <td>8</td>\n",
       "      <td>1</td>\n",
       "      <td>2.888889</td>\n",
       "    </tr>\n",
       "    <tr>\n",
       "      <th>4</th>\n",
       "      <td>5</td>\n",
       "      <td>2</td>\n",
       "      <td>3</td>\n",
       "      <td>10</td>\n",
       "      <td>3</td>\n",
       "      <td>1</td>\n",
       "      <td>5</td>\n",
       "      <td>1</td>\n",
       "      <td>4</td>\n",
       "      <td>2</td>\n",
       "      <td>5</td>\n",
       "      <td>4</td>\n",
       "      <td>2.222222</td>\n",
       "    </tr>\n",
       "  </tbody>\n",
       "</table>\n",
       "</div>"
      ],
      "text/plain": [
       "   Candidate Id  Codeforces Rating  Codeforces Contributions  Dribble works  \\\n",
       "0             1                 10                         5              6   \n",
       "1             2                  7                         2              2   \n",
       "2             3                  4                         5              2   \n",
       "3             4                 10                         5              5   \n",
       "4             5                  2                         3             10   \n",
       "\n",
       "   Dribble Projects  Dribble collections  Kaggle compettions  Kaggle Datasets  \\\n",
       "0                10                    4                   5                3   \n",
       "1                 2                    4                   3                4   \n",
       "2                 8                    2                   3                5   \n",
       "3                 2                    3                  10                1   \n",
       "4                 3                    1                   5                1   \n",
       "\n",
       "   Kaggle  code  Kaggle Discusions  Github Repos  Github Commits  Total Rating  \n",
       "0             3                  3             5               5      3.277778  \n",
       "1             2                  2             1               4      1.833333  \n",
       "2             1                  4             9               5      2.666667  \n",
       "3             3                  4             8               1      2.888889  \n",
       "4             4                  2             5               4      2.222222  "
      ]
     },
     "execution_count": 2,
     "metadata": {},
     "output_type": "execute_result"
    }
   ],
   "source": [
    "df.head()"
   ]
  },
  {
   "cell_type": "code",
   "execution_count": 16,
   "id": "bc96288c",
   "metadata": {},
   "outputs": [],
   "source": [
    "from sklearn.linear_model import LinearRegression\n",
    "from sklearn.model_selection import train_test_split\n",
    "from sklearn.metrics import mean_squared_error\n",
    "import numpy as np\n",
    "\n",
    "array=df.values\n",
    "X = array[:,1:12]\n",
    "y = array[:,12]\n",
    "X_train, X_test, y_train, y_test = train_test_split(X, y, test_size=0.5, random_state=42)\n",
    "model1_Lr = LinearRegression()\n",
    "model1_Lr.fit(X_train, y_train)\n",
    "y_pred = model1_Lr.predict(X_test)\n",
    "\n"
   ]
  },
  {
   "cell_type": "code",
   "execution_count": 17,
   "id": "c6e940df",
   "metadata": {},
   "outputs": [],
   "source": [
    "def accuracy(a,b):\n",
    "    ans=[]\n",
    "    for i in range(len(a)):\n",
    "        v=100-(abs(a[i]-b[i])/b[i])*100\n",
    "        ans.append(v)\n",
    "    per=sum(ans)/len(a)\n",
    "    return per"
   ]
  },
  {
   "cell_type": "code",
   "execution_count": 18,
   "id": "0ddabbf6",
   "metadata": {},
   "outputs": [
    {
     "name": "stdout",
     "output_type": "stream",
     "text": [
      "accuracy: 99.99999999999999\n"
     ]
    }
   ],
   "source": [
    "print('accuracy:',accuracy(y_test,y_pred))\n"
   ]
  },
  {
   "cell_type": "code",
   "execution_count": null,
   "id": "27bfeb5d",
   "metadata": {},
   "outputs": [],
   "source": []
  }
 ],
 "metadata": {
  "kernelspec": {
   "display_name": "Python 3",
   "language": "python",
   "name": "python3"
  },
  "language_info": {
   "codemirror_mode": {
    "name": "ipython",
    "version": 3
   },
   "file_extension": ".py",
   "mimetype": "text/x-python",
   "name": "python",
   "nbconvert_exporter": "python",
   "pygments_lexer": "ipython3",
   "version": "3.8.8"
  }
 },
 "nbformat": 4,
 "nbformat_minor": 5
}
